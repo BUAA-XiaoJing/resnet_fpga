{
 "cells": [
  {
   "cell_type": "markdown",
   "metadata": {
    "colab_type": "text",
    "id": "DxpCgtss3fyc"
   },
   "source": [
    "# Resnet33 for CIFAR-10 using Brevitas"
   ]
  },
  {
   "cell_type": "code",
   "execution_count": 2,
   "metadata": {
    "colab": {
     "base_uri": "https://localhost:8080/",
     "height": 367
    },
    "colab_type": "code",
    "id": "IVx3MK-k_mk0",
    "outputId": "2bad7690-cac7-4078-9076-4ef0fc30a593",
    "scrolled": true
   },
   "outputs": [
    {
     "name": "stdout",
     "output_type": "stream",
     "text": [
      "Collecting git+https://github.com/Xilinx/brevitas.git\n",
      "  Cloning https://github.com/Xilinx/brevitas.git to /tmp/pip-req-build-fxz894v6\n",
      "  Running command git clone -q https://github.com/Xilinx/brevitas.git /tmp/pip-req-build-fxz894v6\n",
      "Requirement already satisfied: torch>=1.1.0 in /home/nikulshr/anaconda3/lib/python3.7/site-packages (from Brevitas==0.2.0a0) (1.4.0)\n",
      "Collecting docrep (from Brevitas==0.2.0a0)\n",
      "  Downloading https://files.pythonhosted.org/packages/dd/4a/ac09d6e07713e22baa4ab4e6f422d25e53425f3dc042616387dfbc272504/docrep-0.2.7.tar.gz\n",
      "Requirement already satisfied: packaging in /home/nikulshr/anaconda3/lib/python3.7/site-packages (from Brevitas==0.2.0a0) (19.2)\n",
      "Requirement already satisfied: six in /home/nikulshr/anaconda3/lib/python3.7/site-packages (from docrep->Brevitas==0.2.0a0) (1.12.0)\n",
      "Requirement already satisfied: pyparsing>=2.0.2 in /home/nikulshr/anaconda3/lib/python3.7/site-packages (from packaging->Brevitas==0.2.0a0) (2.4.2)\n",
      "Building wheels for collected packages: Brevitas, docrep\n",
      "  Building wheel for Brevitas (setup.py) ... \u001b[?25ldone\n",
      "\u001b[?25h  Created wheel for Brevitas: filename=Brevitas-0.2.0a0-cp37-cp37m-linux_x86_64.whl size=1726385 sha256=e283c3b84aa91759ae83b0b0b0ada5ac1e479ffdf3da59501e5a7fa272c34107\n",
      "  Stored in directory: /tmp/pip-ephem-wheel-cache-ifhos0np/wheels/7b/ba/1b/b3bebdeb51db39fc118c4d60ef8556d8a9ab0f1bfda8767a3d\n",
      "  Building wheel for docrep (setup.py) ... \u001b[?25ldone\n",
      "\u001b[?25h  Created wheel for docrep: filename=docrep-0.2.7-cp37-none-any.whl size=23002 sha256=6ee068467a08371b0fb0eaec32b7af9f5fb634596fa64a85a01cacdeec619e89\n",
      "  Stored in directory: /home/nikulshr/.cache/pip/wheels/43/6c/2a/d7b1c8a6e7e66f708a6b6a4fbe4bb5a73219f9c7f0afed568b\n",
      "Successfully built Brevitas docrep\n",
      "Installing collected packages: docrep, Brevitas\n",
      "Successfully installed Brevitas-0.2.0a0 docrep-0.2.7\n"
     ]
    }
   ],
   "source": [
    "#Install once\n",
    "!pip install git+https://github.com/Xilinx/brevitas.git"
   ]
  },
  {
   "cell_type": "markdown",
   "metadata": {
    "colab_type": "text",
    "id": "oVOazS0r3fyh"
   },
   "source": [
    "### Import Statements"
   ]
  },
  {
   "cell_type": "code",
   "execution_count": 3,
   "metadata": {
    "colab": {},
    "colab_type": "code",
    "id": "7kmcEIH13fyj"
   },
   "outputs": [],
   "source": [
    "#Resnet33 for images CIFAR-10 3*32*32 = 3*1024\n",
    "#Resnet33 for images MNIST 1*28*28\n",
    "#import statements\n",
    "import torch\n",
    "import torchvision\n",
    "import torchvision.transforms as transforms\n",
    "import torch.nn.functional as F\n",
    "\n",
    "import brevitas.nn as qnn\n",
    "from brevitas.core.quant import QuantType"
   ]
  },
  {
   "cell_type": "markdown",
   "metadata": {
    "colab_type": "text",
    "id": "kULAJmAe3fys"
   },
   "source": [
    "### Data Preprocessing"
   ]
  },
  {
   "cell_type": "code",
   "execution_count": 4,
   "metadata": {
    "colab": {
     "base_uri": "https://localhost:8080/",
     "height": 353,
     "referenced_widgets": [
      "be32febeeb0448d1b0de1448bd710744",
      "0c036ae4617d4261aca261a7afafe298",
      "5a3ff12966e34d0e8709db597e4acf6c",
      "63d037666a2e46b79c4340f1e4fd3c2d",
      "3731c1da4571455c8378327bbe2a6798",
      "69c3e2f4fce84f7ab371c9bf5281599d",
      "300f567ce35c45aea5744c224e1c1e8a",
      "bb994934347245e3a61915b00714291f",
      "1e7120a0e5bc49d7bfb37a387be7fc20",
      "91e169b0dd73433aabf809c69aa473ae",
      "fcb3a94e0fca47a8a40f4be02b3fc861",
      "16da1681f7de4598aca00fb9cb724404",
      "f7d9fadcc43d40ba9502fc75949958ca",
      "0b650f4a01774daa96060eec3e6626a4",
      "735cb255523d444a94934a3f6e630533",
      "e3489a4664a54b12a5c36702e713a4a1",
      "52a88bbddc4945898e6d7e1845534289",
      "d204581000034449b3ab8d409a8db5c8",
      "6d61f6b1f3de463586fc4ba07e31de82",
      "fa679d760c694aa4b561e2be545e2721",
      "0c4d28fb1c5b441bae103e32fd52df7f",
      "abffc8e18a0144558d0c81e70ab24137",
      "a432899b5f89471f88ba00a186cacd3d",
      "0d69a588803c457bac9096ccefd7754f",
      "5eb1826c4a054cca9812e0920dfe56da",
      "54cf0a58ccee484599fb3e295ff0fa14",
      "46ed706ce997448ba316837981dbd5a0",
      "7ff78aaeecf14fbf8fd64bdcb80fa22e",
      "b437c005b9fe43769a6979e1ffb53130",
      "4f7b03a18bd64ba695eda2f76c64ea7d",
      "6bf2571542714a45b6fde9cb95fc0345",
      "8e49fe983ee94401b57592e020a643c2"
     ]
    },
    "colab_type": "code",
    "id": "dXc-Ta8O3fyt",
    "outputId": "b1cd28cd-ccf1-46aa-d4d7-9e5a02654a50"
   },
   "outputs": [
    {
     "name": "stdout",
     "output_type": "stream",
     "text": [
      "Downloading http://yann.lecun.com/exdb/mnist/train-images-idx3-ubyte.gz to ./data/MNIST/raw/train-images-idx3-ubyte.gz\n"
     ]
    },
    {
     "data": {
      "application/vnd.jupyter.widget-view+json": {
       "model_id": "a92f34fa35204417a79fe19595ae57fc",
       "version_major": 2,
       "version_minor": 0
      },
      "text/plain": [
       "HBox(children=(IntProgress(value=1, bar_style='info', max=1), HTML(value='')))"
      ]
     },
     "metadata": {},
     "output_type": "display_data"
    },
    {
     "name": "stdout",
     "output_type": "stream",
     "text": [
      "Extracting ./data/MNIST/raw/train-images-idx3-ubyte.gz to ./data/MNIST/raw\n",
      "Downloading http://yann.lecun.com/exdb/mnist/train-labels-idx1-ubyte.gz to ./data/MNIST/raw/train-labels-idx1-ubyte.gz\n"
     ]
    },
    {
     "data": {
      "application/vnd.jupyter.widget-view+json": {
       "model_id": "81280db8f27c4416b198d93d37cec439",
       "version_major": 2,
       "version_minor": 0
      },
      "text/plain": [
       "HBox(children=(IntProgress(value=1, bar_style='info', max=1), HTML(value='')))"
      ]
     },
     "metadata": {},
     "output_type": "display_data"
    },
    {
     "name": "stdout",
     "output_type": "stream",
     "text": [
      "Extracting ./data/MNIST/raw/train-labels-idx1-ubyte.gz to ./data/MNIST/raw\n",
      "Downloading http://yann.lecun.com/exdb/mnist/t10k-images-idx3-ubyte.gz to ./data/MNIST/raw/t10k-images-idx3-ubyte.gz\n"
     ]
    },
    {
     "data": {
      "application/vnd.jupyter.widget-view+json": {
       "model_id": "de2d2661aec6402a88f42e90bd407cb3",
       "version_major": 2,
       "version_minor": 0
      },
      "text/plain": [
       "HBox(children=(IntProgress(value=1, bar_style='info', max=1), HTML(value='')))"
      ]
     },
     "metadata": {},
     "output_type": "display_data"
    },
    {
     "name": "stdout",
     "output_type": "stream",
     "text": [
      "Extracting ./data/MNIST/raw/t10k-images-idx3-ubyte.gz to ./data/MNIST/raw\n",
      "Downloading http://yann.lecun.com/exdb/mnist/t10k-labels-idx1-ubyte.gz to ./data/MNIST/raw/t10k-labels-idx1-ubyte.gz\n"
     ]
    },
    {
     "data": {
      "application/vnd.jupyter.widget-view+json": {
       "model_id": "9b77c8890b544aa1b74687815f27c0f3",
       "version_major": 2,
       "version_minor": 0
      },
      "text/plain": [
       "HBox(children=(IntProgress(value=1, bar_style='info', max=1), HTML(value='')))"
      ]
     },
     "metadata": {},
     "output_type": "display_data"
    },
    {
     "name": "stdout",
     "output_type": "stream",
     "text": [
      "Extracting ./data/MNIST/raw/t10k-labels-idx1-ubyte.gz to ./data/MNIST/raw\n",
      "Processing...\n",
      "Done!\n"
     ]
    }
   ],
   "source": [
    "#Get Data and preprocess\n",
    "transform = transforms.Compose(\n",
    "    [transforms.ToTensor(),\n",
    "     transforms.Normalize((0.4914, 0.4822, 0.4465), (0.2023, 0.1994, 0.2010))])\n",
    "\n",
    "#trainset = torchvision.datasets.CIFAR10(root='./data', train=True,\n",
    "#                                        download=True, transform=transform)\n",
    "\n",
    "trainset = torchvision.datasets.MNIST(root='./data', train=True,\n",
    "                                       download=True, transform=transforms.ToTensor())\n",
    "trainloader = torch.utils.data.DataLoader(trainset, batch_size=4,\n",
    "                                         shuffle=True, num_workers=2)\n",
    "\n",
    "testset = torchvision.datasets.MNIST(root='./data', train=False,\n",
    "                                       download=True, transform=transforms.ToTensor())\n",
    "testloader = torch.utils.data.DataLoader(testset, batch_size=4,\n",
    "                                        shuffle=False, num_workers=2)\n",
    "\n",
    "#classes = ('plane', 'car', 'bird', 'cat',\n",
    "#           'deer', 'dog', 'frog', 'horse', 'ship', 'truck')\n",
    "\n",
    "classes = ('0','1','2','3','4','5','6','7','8','9')"
   ]
  },
  {
   "cell_type": "markdown",
   "metadata": {
    "colab_type": "text",
    "id": "3Mu3s4S93fy4"
   },
   "source": [
    "### Model Definition"
   ]
  },
  {
   "cell_type": "code",
   "execution_count": 5,
   "metadata": {
    "colab": {},
    "colab_type": "code",
    "id": "x5trqFQgEQSL"
   },
   "outputs": [],
   "source": [
    "# Quantized ResNet\n",
    "\n",
    "class residual_unit(torch.nn.Module):\n",
    "    def __init__(self, N, C, L, W, training=False):\n",
    "        super(residual_unit, self).__init__()\n",
    "        self.ru_conv1 = qnn.QuantConv1d(in_channels=32, out_channels=32, kernel_size=3, padding=1, weight_quant_type=QuantType.INT, weight_bit_width=8)\n",
    "        self.ru_bn1 = torch.nn.BatchNorm1d(32, affine=training)\n",
    "        self.ru_act1 = qnn.QuantReLU(quant_type=QuantType.INT, bit_width=8, max_val=6)\n",
    "        self.ru_conv2 = qnn.QuantConv1d(in_channels=32, out_channels=32, kernel_size=3, padding=1, weight_quant_type=QuantType.INT, weight_bit_width=8)\n",
    "        self.ru_bn2 = torch.nn.BatchNorm1d(32, affine=training)\n",
    "        self.ru_act2 = qnn.QuantReLU(quant_type=QuantType.INT, bit_width=8, max_val=6)\n",
    "        \n",
    "    def forward(self, x):\n",
    "        y = self.ru_conv1(x)\n",
    "        y = self.ru_bn1(y)\n",
    "        y = self.ru_act1(y)\n",
    "        y = self.ru_conv2(y)\n",
    "        y = self.ru_bn2(y)\n",
    "        y = y + x\n",
    "        y = self.ru_act2(y)\n",
    "        return y\n",
    "\n",
    "class residual_stack(torch.nn.Module):\n",
    "    def __init__(self, N, C, L, W, training=False):\n",
    "        super(residual_stack, self).__init__()\n",
    "        self.rs_conv1 = qnn.QuantConv1d(in_channels=C, out_channels=32, kernel_size=3, padding=1, weight_quant_type=QuantType.INT, weight_bit_width=8)\n",
    "        self.rs_bn1 = torch.nn.BatchNorm1d(32, affine=training)\n",
    "        self.rs_ru1 = residual_unit(N, C, L, W, training) #Create an object of the custom nn model\n",
    "        self.rs_ru2 = residual_unit(N, C, L, W, training)\n",
    "        self.rs_mp1 = torch.nn.MaxPool1d(kernel_size=2, stride=2)\n",
    "        \n",
    "    def forward(self, x):\n",
    "        y = self.rs_conv1(x)\n",
    "        y = self.rs_bn1(y)\n",
    "        y = self.rs_ru1(y)\n",
    "        y = self.rs_ru2(y)\n",
    "        y = self.rs_mp1(y)\n",
    "        return y\n",
    "\n",
    "class resnet33_quant(torch.nn.Module):\n",
    "    def __init__(self, N, C, L, W, training=False):\n",
    "        super(resnet33_quant, self).__init__()\n",
    "        self.rn33_rs1 = residual_stack(N, 1, 1024,1, training) #output is N*32*512\n",
    "        self.rn33_rs2 = residual_stack(N, 32, 512,1, training) #output is N*32*256\n",
    "        self.rn33_rs3 = residual_stack(N, 32, 256,1, training) #output is N*32*128\n",
    "        self.rn33_rs4 = residual_stack(N, 32, 128,1, training) #output is N*32*64\n",
    "        self.rn33_rs5 = residual_stack(N, 32, 64,1, training) #output is N*32*32\n",
    "        self.rn33_rs6 = residual_stack(N, 32, 32,1, training) #output is N*32*16\n",
    "        self.flat = torch.nn.Flatten() #output is N*512\n",
    "        self.fc1 = qnn.QuantLinear(512, 128, bias=True, weight_quant_type=QuantType.INT, weight_bit_width=8) #output is N*128\n",
    "        self.selu1 = qnn.QuantReLU(quant_type=QuantType.INT, bit_width=8, max_val=6)\n",
    "        #self.alphadrop1 = torch.nn.AlphaDropout(p=0.95)\n",
    "        self.fc2 = qnn.QuantLinear(128, 128, bias=True, weight_quant_type=QuantType.INT, weight_bit_width=8) #output is N*128\n",
    "        self.selu2 = qnn.QuantReLU(quant_type=QuantType.INT, bit_width=8, max_val=6)\n",
    "        #self.alphadrop2 = torch.nn.AlphaDropout(p=0.95)\n",
    "        self.fc3 = qnn.QuantLinear(128, 10, bias=True, weight_quant_type=QuantType.INT, weight_bit_width=8) #output is N*24\n",
    "        #self.smx1 = torch.nn.Softmax(dim=1)#dimension\n",
    "        \n",
    "    def forward(self, x):\n",
    "        #print('input' + str(x.size()))\n",
    "        y = self.rn33_rs1(x)\n",
    "        #print(y.size())\n",
    "        y = self.rn33_rs2(y)\n",
    "        #print(y.size())\n",
    "        y = self.rn33_rs3(y)\n",
    "        #print(y.size())\n",
    "        y = self.rn33_rs4(y)\n",
    "        #print(y.size())\n",
    "        y = self.rn33_rs5(y)\n",
    "        #print(y.size())\n",
    "        y = self.rn33_rs6(y)\n",
    "        #print(y.size())\n",
    "        #85272 parameters\n",
    "        y = self.flat(y)\n",
    "        #print(y.size())\n",
    "        y = self.fc1(y)\n",
    "        y = self.selu1(y)\n",
    "        #y = self.alphadrop1(y)\n",
    "        #print(y.size())\n",
    "        y = self.fc2(y)\n",
    "        y = self.selu2(y)\n",
    "        #y = self.alphadrop2(y)\n",
    "        #print(y.size())\n",
    "        y = self.fc3(y)\n",
    "        #y = self.smx1(y)\n",
    "        #print(y.size())\n",
    "        return y"
   ]
  },
  {
   "cell_type": "markdown",
   "metadata": {
    "colab_type": "text",
    "id": "ZiIN_Y-H3fzF"
   },
   "source": [
    "### Define Optimizer, Loss Function"
   ]
  },
  {
   "cell_type": "code",
   "execution_count": 6,
   "metadata": {
    "colab": {
     "base_uri": "https://localhost:8080/",
     "height": 176
    },
    "colab_type": "code",
    "id": "4k8pQwYA3fzG",
    "outputId": "657ba905-c555-4e05-9596-d1c85f8b4a8c"
   },
   "outputs": [
    {
     "name": "stdout",
     "output_type": "stream",
     "text": [
      "cpu\n"
     ]
    },
    {
     "name": "stderr",
     "output_type": "stream",
     "text": [
      "/home/nikulshr/anaconda3/lib/python3.7/site-packages/torch/jit/_recursive.py:145: UserWarning: 'stats_reduce_dim' was found in ScriptModule constants, but was not actually set in __init__. Consider removing it.\n",
      "  \"Consider removing it.\".format(name))\n",
      "/home/nikulshr/anaconda3/lib/python3.7/site-packages/torch/jit/_recursive.py:145: UserWarning: 'const_affine_weight' was found in ScriptModule constants, but was not actually set in __init__. Consider removing it.\n",
      "  \"Consider removing it.\".format(name))\n",
      "/home/nikulshr/anaconda3/lib/python3.7/site-packages/torch/jit/_recursive.py:145: UserWarning: 'const_affine_bias' was found in ScriptModule constants, but was not actually set in __init__. Consider removing it.\n",
      "  \"Consider removing it.\".format(name))\n"
     ]
    },
    {
     "name": "stdout",
     "output_type": "stream",
     "text": [
      "173636\n"
     ]
    }
   ],
   "source": [
    "#trainset\n",
    "#testset\n",
    "N, C, L, W, modulation_classes = 4,1,1024,1,10\n",
    "#x = torch.randn(N,C,L)\n",
    "#y = torch.randn(N, modulation_classes)\n",
    "training = True\n",
    "learning_rate = 1e-3\n",
    "\n",
    "device = torch.device('cuda:0' if torch.cuda.is_available() else 'cpu')\n",
    "print(device)\n",
    "\n",
    "#Instantiate Model\n",
    "model = resnet33_quant(N,C,L,W)\n",
    "model.to(device)\n",
    "\n",
    "#Print Model for reference\n",
    "#print(model)\n",
    "\n",
    "train_data = iter(trainloader) #train_data is a list of 12500 lists. Each list is [input tensor, label tensor]. Input tensor is of size(4,3,32,32), output tensor is of size(4)\n",
    "test_data = iter(testloader)\n",
    "\n",
    "#print(train_data.next()[1].size())\n",
    "\n",
    "#Print number of parameters\n",
    "print(sum([param.nelement() for param in model.parameters()]))\n",
    "    \n",
    "#for name, param in model.named_parameters():\n",
    "    #if param.requires_grad:\n",
    "    #print('{:s}\\t{:s}\\t{:s}'.format(name.ljust(40), str(param.size()).ljust(30), str(param.nelement()).rjust(10)))\n",
    "\n",
    "#Define Loss function\n",
    "#criterion = torch.nn.MSELoss(reduction='sum')\n",
    "criterion = torch.nn.CrossEntropyLoss()\n",
    "\n",
    "#Define optimizer\n",
    "#SGD\n",
    "optimizer = torch.optim.SGD(model.parameters(), lr=learning_rate, momentum=0.9, weight_decay=5e-5)\n",
    "#Adam's algo\n",
    "#optimizer = torch.optim.Adam(model.parameters(), lr=learning_rate, weight_decay=opt.wd) #What is opt? looks like torch.opt"
   ]
  },
  {
   "cell_type": "markdown",
   "metadata": {
    "colab_type": "text",
    "id": "bb2k_hsy3fzY"
   },
   "source": [
    "### Train Network"
   ]
  },
  {
   "cell_type": "code",
   "execution_count": 7,
   "metadata": {
    "colab": {},
    "colab_type": "code",
    "id": "HrOYjvIA3fza",
    "scrolled": false
   },
   "outputs": [
    {
     "name": "stderr",
     "output_type": "stream",
     "text": [
      "Traceback (most recent call last):\n",
      "Traceback (most recent call last):\n",
      "  File \"/home/nikulshr/anaconda3/lib/python3.7/multiprocessing/queues.py\", line 242, in _feed\n",
      "    send_bytes(obj)\n",
      "  File \"/home/nikulshr/anaconda3/lib/python3.7/multiprocessing/connection.py\", line 200, in send_bytes\n",
      "    self._send_bytes(m[offset:offset + size])\n",
      "  File \"/home/nikulshr/anaconda3/lib/python3.7/multiprocessing/connection.py\", line 404, in _send_bytes\n",
      "    self._send(header + buf)\n",
      "  File \"/home/nikulshr/anaconda3/lib/python3.7/multiprocessing/connection.py\", line 368, in _send\n",
      "    n = write(self._handle, buf)\n",
      "BrokenPipeError: [Errno 32] Broken pipe\n",
      "  File \"/home/nikulshr/anaconda3/lib/python3.7/multiprocessing/queues.py\", line 242, in _feed\n",
      "    send_bytes(obj)\n",
      "  File \"/home/nikulshr/anaconda3/lib/python3.7/multiprocessing/connection.py\", line 200, in send_bytes\n",
      "    self._send_bytes(m[offset:offset + size])\n",
      "  File \"/home/nikulshr/anaconda3/lib/python3.7/multiprocessing/connection.py\", line 404, in _send_bytes\n",
      "    self._send(header + buf)\n",
      "  File \"/home/nikulshr/anaconda3/lib/python3.7/multiprocessing/connection.py\", line 368, in _send\n",
      "    n = write(self._handle, buf)\n",
      "BrokenPipeError: [Errno 32] Broken pipe\n"
     ]
    },
    {
     "ename": "KeyboardInterrupt",
     "evalue": "",
     "output_type": "error",
     "traceback": [
      "\u001b[0;31m---------------------------------------------------------------------------\u001b[0m",
      "\u001b[0;31mKeyboardInterrupt\u001b[0m                         Traceback (most recent call last)",
      "\u001b[0;32m<ipython-input-7-8f121d7e5c77>\u001b[0m in \u001b[0;36m<module>\u001b[0;34m\u001b[0m\n\u001b[1;32m     15\u001b[0m         \u001b[0;31m#optimizer.zero_grad()\u001b[0m\u001b[0;34m\u001b[0m\u001b[0;34m\u001b[0m\u001b[0;34m\u001b[0m\u001b[0m\n\u001b[1;32m     16\u001b[0m \u001b[0;34m\u001b[0m\u001b[0m\n\u001b[0;32m---> 17\u001b[0;31m         \u001b[0mloss\u001b[0m\u001b[0;34m.\u001b[0m\u001b[0mbackward\u001b[0m\u001b[0;34m(\u001b[0m\u001b[0;34m)\u001b[0m \u001b[0;31m#Back propagation\u001b[0m\u001b[0;34m\u001b[0m\u001b[0;34m\u001b[0m\u001b[0m\n\u001b[0m\u001b[1;32m     18\u001b[0m \u001b[0;34m\u001b[0m\u001b[0m\n\u001b[1;32m     19\u001b[0m         \u001b[0;31m#optimizer.step()\u001b[0m\u001b[0;34m\u001b[0m\u001b[0;34m\u001b[0m\u001b[0;34m\u001b[0m\u001b[0m\n",
      "\u001b[0;32m~/anaconda3/lib/python3.7/site-packages/torch/tensor.py\u001b[0m in \u001b[0;36mbackward\u001b[0;34m(self, gradient, retain_graph, create_graph)\u001b[0m\n\u001b[1;32m    193\u001b[0m                 \u001b[0mproducts\u001b[0m\u001b[0;34m.\u001b[0m \u001b[0mDefaults\u001b[0m \u001b[0mto\u001b[0m\u001b[0;31m \u001b[0m\u001b[0;31m`\u001b[0m\u001b[0;31m`\u001b[0m\u001b[0;32mFalse\u001b[0m\u001b[0;31m`\u001b[0m\u001b[0;31m`\u001b[0m\u001b[0;34m.\u001b[0m\u001b[0;34m\u001b[0m\u001b[0;34m\u001b[0m\u001b[0m\n\u001b[1;32m    194\u001b[0m         \"\"\"\n\u001b[0;32m--> 195\u001b[0;31m         \u001b[0mtorch\u001b[0m\u001b[0;34m.\u001b[0m\u001b[0mautograd\u001b[0m\u001b[0;34m.\u001b[0m\u001b[0mbackward\u001b[0m\u001b[0;34m(\u001b[0m\u001b[0mself\u001b[0m\u001b[0;34m,\u001b[0m \u001b[0mgradient\u001b[0m\u001b[0;34m,\u001b[0m \u001b[0mretain_graph\u001b[0m\u001b[0;34m,\u001b[0m \u001b[0mcreate_graph\u001b[0m\u001b[0;34m)\u001b[0m\u001b[0;34m\u001b[0m\u001b[0;34m\u001b[0m\u001b[0m\n\u001b[0m\u001b[1;32m    196\u001b[0m \u001b[0;34m\u001b[0m\u001b[0m\n\u001b[1;32m    197\u001b[0m     \u001b[0;32mdef\u001b[0m \u001b[0mregister_hook\u001b[0m\u001b[0;34m(\u001b[0m\u001b[0mself\u001b[0m\u001b[0;34m,\u001b[0m \u001b[0mhook\u001b[0m\u001b[0;34m)\u001b[0m\u001b[0;34m:\u001b[0m\u001b[0;34m\u001b[0m\u001b[0;34m\u001b[0m\u001b[0m\n",
      "\u001b[0;32m~/anaconda3/lib/python3.7/site-packages/torch/autograd/__init__.py\u001b[0m in \u001b[0;36mbackward\u001b[0;34m(tensors, grad_tensors, retain_graph, create_graph, grad_variables)\u001b[0m\n\u001b[1;32m     97\u001b[0m     Variable._execution_engine.run_backward(\n\u001b[1;32m     98\u001b[0m         \u001b[0mtensors\u001b[0m\u001b[0;34m,\u001b[0m \u001b[0mgrad_tensors\u001b[0m\u001b[0;34m,\u001b[0m \u001b[0mretain_graph\u001b[0m\u001b[0;34m,\u001b[0m \u001b[0mcreate_graph\u001b[0m\u001b[0;34m,\u001b[0m\u001b[0;34m\u001b[0m\u001b[0;34m\u001b[0m\u001b[0m\n\u001b[0;32m---> 99\u001b[0;31m         allow_unreachable=True)  # allow_unreachable flag\n\u001b[0m\u001b[1;32m    100\u001b[0m \u001b[0;34m\u001b[0m\u001b[0m\n\u001b[1;32m    101\u001b[0m \u001b[0;34m\u001b[0m\u001b[0m\n",
      "\u001b[0;31mKeyboardInterrupt\u001b[0m: "
     ]
    }
   ],
   "source": [
    "import time\n",
    "tic = time.process_time()\n",
    "for epoch in range(0,2): #training steps\n",
    "    running_loss = 0.0\n",
    "    for i,data in enumerate(trainloader,0): #Loop through data\n",
    "        inputs, labels = data[0].to(device), data[1].to(device) #Batch size of 4\n",
    "        inputs_new = torch.zeros([4,1,32,32], dtype=torch.float32, device=device)\n",
    "        inputs_new[:,:,2:30,2:30] = inputs\n",
    "        inputs_new = inputs_new.reshape(4,1,1024)\n",
    "\n",
    "        outputs = model(inputs_new) #Get output\n",
    "        \n",
    "        loss = criterion(outputs, labels)#Get loss\n",
    "        \n",
    "        #optimizer.zero_grad()\n",
    "        \n",
    "        loss.backward() #Back propagation\n",
    "        \n",
    "        #optimizer.step()\n",
    "        \n",
    "        #print(loss.item())\n",
    "        #print('Hello World before')\n",
    "        running_loss += loss.item()\n",
    "        if i % 2000 == 1999:    # print every 2000 mini-batches\n",
    "            print('[%d, %5d] loss: %.3f' %\n",
    "                  (epoch + 1, i + 1, running_loss / 2000))\n",
    "            running_loss = 0.0\n",
    "            \n",
    "        #print('Hello World mid')\n",
    "        with torch.no_grad():\n",
    "            for param in model.parameters():\n",
    "                param -= learning_rate*param.grad\n",
    "            \n",
    "        \n",
    "        #print('Hello World after')\n",
    "        #print(learning_rate)\n",
    "        model.zero_grad()\n",
    "        \n",
    "        \n",
    "toc = time.process_time()           \n",
    "print(toc-tic)\n",
    "print('Finished Training')\n",
    "\n",
    "\n",
    "#Save Network\n",
    "#PATH = './cifar_net.pth'\n",
    "#torch.save(net.state_dict(), PATH) \n",
    "        "
   ]
  },
  {
   "cell_type": "markdown",
   "metadata": {
    "colab_type": "text",
    "id": "KhePZtJg3fzt"
   },
   "source": [
    "### Class wise accuracy"
   ]
  },
  {
   "cell_type": "code",
   "execution_count": null,
   "metadata": {
    "colab": {},
    "colab_type": "code",
    "id": "wvCM4s313fzu"
   },
   "outputs": [],
   "source": [
    "#Save Network\n",
    "PATH = './resnet33_new_relu.pth'\n",
    "torch.save(model.state_dict(), PATH) \n",
    "\n",
    "model1 = resnet33_quant(N,C,L,W)\n",
    "model1.to(device)\n",
    "model1.load_state_dict(torch.load(PATH))\n",
    "\n",
    "class_correct = list(0. for i in range(10))\n",
    "class_total = list(0. for i in range(10))\n",
    "with torch.no_grad():\n",
    "    for data in testloader:\n",
    "        images, labels = data[0].to(device), data[1].to(device)\n",
    "        images_new = torch.zeros([4,1,32,32], dtype=torch.float32, device=device)\n",
    "        images_new[:,:,2:30,2:30] = images\n",
    "        images_new = images_new.reshape(4,1,1024) \n",
    "        outputs = model1(images_new)\n",
    "        _, predicted = torch.max(outputs, 1)\n",
    "        c = (predicted == labels).squeeze()\n",
    "        for i in range(4):\n",
    "            label = labels[i]\n",
    "            class_correct[label] += c[i].item()\n",
    "            class_total[label] += 1\n",
    "\n",
    "\n",
    "for i in range(10):\n",
    "    print('Accuracy of %5s : %f %%' % (\n",
    "        classes[i], 100 * class_correct[i] / class_total[i]))"
   ]
  },
  {
   "cell_type": "markdown",
   "metadata": {
    "colab_type": "text",
    "id": "EgjEQHCe3f0P"
   },
   "source": [
    "### Total accuracy across all classes"
   ]
  },
  {
   "cell_type": "code",
   "execution_count": null,
   "metadata": {
    "colab": {},
    "colab_type": "code",
    "id": "P1cdv33k3f08"
   },
   "outputs": [],
   "source": [
    "correct = 0\n",
    "total = 0\n",
    "with torch.no_grad():\n",
    "    for data in testloader:\n",
    "        images, labels = data[0].to(device), data[1].to(device)\n",
    "        images_new = torch.zeros([4,1,32,32], dtype=torch.float32, device=device)\n",
    "        images_new[:,:,2:30,2:30] = images\n",
    "        images_new = images_new.reshape(4,1,1024) \n",
    "        outputs = model1(images_new)\n",
    "        _, predicted = torch.max(outputs.data, 1)\n",
    "        total += labels.size(0)\n",
    "        correct += (predicted == labels).sum().item()\n",
    "\n",
    "print('Accuracy of the network on the 10000 test images: %f %%' % (\n",
    "    100 * correct / total))"
   ]
  }
 ],
 "metadata": {
  "colab": {
   "name": "resnet_brevitas.ipynb",
   "provenance": []
  },
  "kernelspec": {
   "display_name": "Python 3",
   "language": "python",
   "name": "python3"
  },
  "language_info": {
   "codemirror_mode": {
    "name": "ipython",
    "version": 3
   },
   "file_extension": ".py",
   "mimetype": "text/x-python",
   "name": "python",
   "nbconvert_exporter": "python",
   "pygments_lexer": "ipython3",
   "version": "3.7.4"
  },
  "widgets": {
   "application/vnd.jupyter.widget-state+json": {
    "0b650f4a01774daa96060eec3e6626a4": {
     "model_module": "@jupyter-widgets/base",
     "model_name": "LayoutModel",
     "state": {
      "_model_module": "@jupyter-widgets/base",
      "_model_module_version": "1.2.0",
      "_model_name": "LayoutModel",
      "_view_count": null,
      "_view_module": "@jupyter-widgets/base",
      "_view_module_version": "1.2.0",
      "_view_name": "LayoutView",
      "align_content": null,
      "align_items": null,
      "align_self": null,
      "border": null,
      "bottom": null,
      "display": null,
      "flex": null,
      "flex_flow": null,
      "grid_area": null,
      "grid_auto_columns": null,
      "grid_auto_flow": null,
      "grid_auto_rows": null,
      "grid_column": null,
      "grid_gap": null,
      "grid_row": null,
      "grid_template_areas": null,
      "grid_template_columns": null,
      "grid_template_rows": null,
      "height": null,
      "justify_content": null,
      "justify_items": null,
      "left": null,
      "margin": null,
      "max_height": null,
      "max_width": null,
      "min_height": null,
      "min_width": null,
      "object_fit": null,
      "object_position": null,
      "order": null,
      "overflow": null,
      "overflow_x": null,
      "overflow_y": null,
      "padding": null,
      "right": null,
      "top": null,
      "visibility": null,
      "width": null
     }
    },
    "0c036ae4617d4261aca261a7afafe298": {
     "model_module": "@jupyter-widgets/base",
     "model_name": "LayoutModel",
     "state": {
      "_model_module": "@jupyter-widgets/base",
      "_model_module_version": "1.2.0",
      "_model_name": "LayoutModel",
      "_view_count": null,
      "_view_module": "@jupyter-widgets/base",
      "_view_module_version": "1.2.0",
      "_view_name": "LayoutView",
      "align_content": null,
      "align_items": null,
      "align_self": null,
      "border": null,
      "bottom": null,
      "display": null,
      "flex": null,
      "flex_flow": null,
      "grid_area": null,
      "grid_auto_columns": null,
      "grid_auto_flow": null,
      "grid_auto_rows": null,
      "grid_column": null,
      "grid_gap": null,
      "grid_row": null,
      "grid_template_areas": null,
      "grid_template_columns": null,
      "grid_template_rows": null,
      "height": null,
      "justify_content": null,
      "justify_items": null,
      "left": null,
      "margin": null,
      "max_height": null,
      "max_width": null,
      "min_height": null,
      "min_width": null,
      "object_fit": null,
      "object_position": null,
      "order": null,
      "overflow": null,
      "overflow_x": null,
      "overflow_y": null,
      "padding": null,
      "right": null,
      "top": null,
      "visibility": null,
      "width": null
     }
    },
    "0c4d28fb1c5b441bae103e32fd52df7f": {
     "model_module": "@jupyter-widgets/controls",
     "model_name": "ProgressStyleModel",
     "state": {
      "_model_module": "@jupyter-widgets/controls",
      "_model_module_version": "1.5.0",
      "_model_name": "ProgressStyleModel",
      "_view_count": null,
      "_view_module": "@jupyter-widgets/base",
      "_view_module_version": "1.2.0",
      "_view_name": "StyleView",
      "bar_color": null,
      "description_width": "initial"
     }
    },
    "0d69a588803c457bac9096ccefd7754f": {
     "model_module": "@jupyter-widgets/base",
     "model_name": "LayoutModel",
     "state": {
      "_model_module": "@jupyter-widgets/base",
      "_model_module_version": "1.2.0",
      "_model_name": "LayoutModel",
      "_view_count": null,
      "_view_module": "@jupyter-widgets/base",
      "_view_module_version": "1.2.0",
      "_view_name": "LayoutView",
      "align_content": null,
      "align_items": null,
      "align_self": null,
      "border": null,
      "bottom": null,
      "display": null,
      "flex": null,
      "flex_flow": null,
      "grid_area": null,
      "grid_auto_columns": null,
      "grid_auto_flow": null,
      "grid_auto_rows": null,
      "grid_column": null,
      "grid_gap": null,
      "grid_row": null,
      "grid_template_areas": null,
      "grid_template_columns": null,
      "grid_template_rows": null,
      "height": null,
      "justify_content": null,
      "justify_items": null,
      "left": null,
      "margin": null,
      "max_height": null,
      "max_width": null,
      "min_height": null,
      "min_width": null,
      "object_fit": null,
      "object_position": null,
      "order": null,
      "overflow": null,
      "overflow_x": null,
      "overflow_y": null,
      "padding": null,
      "right": null,
      "top": null,
      "visibility": null,
      "width": null
     }
    },
    "16da1681f7de4598aca00fb9cb724404": {
     "model_module": "@jupyter-widgets/controls",
     "model_name": "HTMLModel",
     "state": {
      "_dom_classes": [],
      "_model_module": "@jupyter-widgets/controls",
      "_model_module_version": "1.5.0",
      "_model_name": "HTMLModel",
      "_view_count": null,
      "_view_module": "@jupyter-widgets/controls",
      "_view_module_version": "1.5.0",
      "_view_name": "HTMLView",
      "description": "",
      "description_tooltip": null,
      "layout": "IPY_MODEL_e3489a4664a54b12a5c36702e713a4a1",
      "placeholder": "​",
      "style": "IPY_MODEL_735cb255523d444a94934a3f6e630533",
      "value": " 32768/? [00:02&lt;00:00, 12333.61it/s]"
     }
    },
    "1e7120a0e5bc49d7bfb37a387be7fc20": {
     "model_module": "@jupyter-widgets/controls",
     "model_name": "HBoxModel",
     "state": {
      "_dom_classes": [],
      "_model_module": "@jupyter-widgets/controls",
      "_model_module_version": "1.5.0",
      "_model_name": "HBoxModel",
      "_view_count": null,
      "_view_module": "@jupyter-widgets/controls",
      "_view_module_version": "1.5.0",
      "_view_name": "HBoxView",
      "box_style": "",
      "children": [
       "IPY_MODEL_fcb3a94e0fca47a8a40f4be02b3fc861",
       "IPY_MODEL_16da1681f7de4598aca00fb9cb724404"
      ],
      "layout": "IPY_MODEL_91e169b0dd73433aabf809c69aa473ae"
     }
    },
    "300f567ce35c45aea5744c224e1c1e8a": {
     "model_module": "@jupyter-widgets/controls",
     "model_name": "DescriptionStyleModel",
     "state": {
      "_model_module": "@jupyter-widgets/controls",
      "_model_module_version": "1.5.0",
      "_model_name": "DescriptionStyleModel",
      "_view_count": null,
      "_view_module": "@jupyter-widgets/base",
      "_view_module_version": "1.2.0",
      "_view_name": "StyleView",
      "description_width": ""
     }
    },
    "3731c1da4571455c8378327bbe2a6798": {
     "model_module": "@jupyter-widgets/controls",
     "model_name": "ProgressStyleModel",
     "state": {
      "_model_module": "@jupyter-widgets/controls",
      "_model_module_version": "1.5.0",
      "_model_name": "ProgressStyleModel",
      "_view_count": null,
      "_view_module": "@jupyter-widgets/base",
      "_view_module_version": "1.2.0",
      "_view_name": "StyleView",
      "bar_color": null,
      "description_width": "initial"
     }
    },
    "46ed706ce997448ba316837981dbd5a0": {
     "model_module": "@jupyter-widgets/controls",
     "model_name": "IntProgressModel",
     "state": {
      "_dom_classes": [],
      "_model_module": "@jupyter-widgets/controls",
      "_model_module_version": "1.5.0",
      "_model_name": "IntProgressModel",
      "_view_count": null,
      "_view_module": "@jupyter-widgets/controls",
      "_view_module_version": "1.5.0",
      "_view_name": "ProgressView",
      "bar_style": "info",
      "description": "  0%",
      "description_tooltip": null,
      "layout": "IPY_MODEL_4f7b03a18bd64ba695eda2f76c64ea7d",
      "max": 1,
      "min": 0,
      "orientation": "horizontal",
      "style": "IPY_MODEL_b437c005b9fe43769a6979e1ffb53130",
      "value": 0
     }
    },
    "4f7b03a18bd64ba695eda2f76c64ea7d": {
     "model_module": "@jupyter-widgets/base",
     "model_name": "LayoutModel",
     "state": {
      "_model_module": "@jupyter-widgets/base",
      "_model_module_version": "1.2.0",
      "_model_name": "LayoutModel",
      "_view_count": null,
      "_view_module": "@jupyter-widgets/base",
      "_view_module_version": "1.2.0",
      "_view_name": "LayoutView",
      "align_content": null,
      "align_items": null,
      "align_self": null,
      "border": null,
      "bottom": null,
      "display": null,
      "flex": null,
      "flex_flow": null,
      "grid_area": null,
      "grid_auto_columns": null,
      "grid_auto_flow": null,
      "grid_auto_rows": null,
      "grid_column": null,
      "grid_gap": null,
      "grid_row": null,
      "grid_template_areas": null,
      "grid_template_columns": null,
      "grid_template_rows": null,
      "height": null,
      "justify_content": null,
      "justify_items": null,
      "left": null,
      "margin": null,
      "max_height": null,
      "max_width": null,
      "min_height": null,
      "min_width": null,
      "object_fit": null,
      "object_position": null,
      "order": null,
      "overflow": null,
      "overflow_x": null,
      "overflow_y": null,
      "padding": null,
      "right": null,
      "top": null,
      "visibility": null,
      "width": null
     }
    },
    "52a88bbddc4945898e6d7e1845534289": {
     "model_module": "@jupyter-widgets/controls",
     "model_name": "HBoxModel",
     "state": {
      "_dom_classes": [],
      "_model_module": "@jupyter-widgets/controls",
      "_model_module_version": "1.5.0",
      "_model_name": "HBoxModel",
      "_view_count": null,
      "_view_module": "@jupyter-widgets/controls",
      "_view_module_version": "1.5.0",
      "_view_name": "HBoxView",
      "box_style": "",
      "children": [
       "IPY_MODEL_6d61f6b1f3de463586fc4ba07e31de82",
       "IPY_MODEL_fa679d760c694aa4b561e2be545e2721"
      ],
      "layout": "IPY_MODEL_d204581000034449b3ab8d409a8db5c8"
     }
    },
    "54cf0a58ccee484599fb3e295ff0fa14": {
     "model_module": "@jupyter-widgets/base",
     "model_name": "LayoutModel",
     "state": {
      "_model_module": "@jupyter-widgets/base",
      "_model_module_version": "1.2.0",
      "_model_name": "LayoutModel",
      "_view_count": null,
      "_view_module": "@jupyter-widgets/base",
      "_view_module_version": "1.2.0",
      "_view_name": "LayoutView",
      "align_content": null,
      "align_items": null,
      "align_self": null,
      "border": null,
      "bottom": null,
      "display": null,
      "flex": null,
      "flex_flow": null,
      "grid_area": null,
      "grid_auto_columns": null,
      "grid_auto_flow": null,
      "grid_auto_rows": null,
      "grid_column": null,
      "grid_gap": null,
      "grid_row": null,
      "grid_template_areas": null,
      "grid_template_columns": null,
      "grid_template_rows": null,
      "height": null,
      "justify_content": null,
      "justify_items": null,
      "left": null,
      "margin": null,
      "max_height": null,
      "max_width": null,
      "min_height": null,
      "min_width": null,
      "object_fit": null,
      "object_position": null,
      "order": null,
      "overflow": null,
      "overflow_x": null,
      "overflow_y": null,
      "padding": null,
      "right": null,
      "top": null,
      "visibility": null,
      "width": null
     }
    },
    "5a3ff12966e34d0e8709db597e4acf6c": {
     "model_module": "@jupyter-widgets/controls",
     "model_name": "IntProgressModel",
     "state": {
      "_dom_classes": [],
      "_model_module": "@jupyter-widgets/controls",
      "_model_module_version": "1.5.0",
      "_model_name": "IntProgressModel",
      "_view_count": null,
      "_view_module": "@jupyter-widgets/controls",
      "_view_module_version": "1.5.0",
      "_view_name": "ProgressView",
      "bar_style": "info",
      "description": "",
      "description_tooltip": null,
      "layout": "IPY_MODEL_69c3e2f4fce84f7ab371c9bf5281599d",
      "max": 1,
      "min": 0,
      "orientation": "horizontal",
      "style": "IPY_MODEL_3731c1da4571455c8378327bbe2a6798",
      "value": 1
     }
    },
    "5eb1826c4a054cca9812e0920dfe56da": {
     "model_module": "@jupyter-widgets/controls",
     "model_name": "HBoxModel",
     "state": {
      "_dom_classes": [],
      "_model_module": "@jupyter-widgets/controls",
      "_model_module_version": "1.5.0",
      "_model_name": "HBoxModel",
      "_view_count": null,
      "_view_module": "@jupyter-widgets/controls",
      "_view_module_version": "1.5.0",
      "_view_name": "HBoxView",
      "box_style": "",
      "children": [
       "IPY_MODEL_46ed706ce997448ba316837981dbd5a0",
       "IPY_MODEL_7ff78aaeecf14fbf8fd64bdcb80fa22e"
      ],
      "layout": "IPY_MODEL_54cf0a58ccee484599fb3e295ff0fa14"
     }
    },
    "63d037666a2e46b79c4340f1e4fd3c2d": {
     "model_module": "@jupyter-widgets/controls",
     "model_name": "HTMLModel",
     "state": {
      "_dom_classes": [],
      "_model_module": "@jupyter-widgets/controls",
      "_model_module_version": "1.5.0",
      "_model_name": "HTMLModel",
      "_view_count": null,
      "_view_module": "@jupyter-widgets/controls",
      "_view_module_version": "1.5.0",
      "_view_name": "HTMLView",
      "description": "",
      "description_tooltip": null,
      "layout": "IPY_MODEL_bb994934347245e3a61915b00714291f",
      "placeholder": "​",
      "style": "IPY_MODEL_300f567ce35c45aea5744c224e1c1e8a",
      "value": " 9920512/? [00:20&lt;00:00, 1370985.11it/s]"
     }
    },
    "69c3e2f4fce84f7ab371c9bf5281599d": {
     "model_module": "@jupyter-widgets/base",
     "model_name": "LayoutModel",
     "state": {
      "_model_module": "@jupyter-widgets/base",
      "_model_module_version": "1.2.0",
      "_model_name": "LayoutModel",
      "_view_count": null,
      "_view_module": "@jupyter-widgets/base",
      "_view_module_version": "1.2.0",
      "_view_name": "LayoutView",
      "align_content": null,
      "align_items": null,
      "align_self": null,
      "border": null,
      "bottom": null,
      "display": null,
      "flex": null,
      "flex_flow": null,
      "grid_area": null,
      "grid_auto_columns": null,
      "grid_auto_flow": null,
      "grid_auto_rows": null,
      "grid_column": null,
      "grid_gap": null,
      "grid_row": null,
      "grid_template_areas": null,
      "grid_template_columns": null,
      "grid_template_rows": null,
      "height": null,
      "justify_content": null,
      "justify_items": null,
      "left": null,
      "margin": null,
      "max_height": null,
      "max_width": null,
      "min_height": null,
      "min_width": null,
      "object_fit": null,
      "object_position": null,
      "order": null,
      "overflow": null,
      "overflow_x": null,
      "overflow_y": null,
      "padding": null,
      "right": null,
      "top": null,
      "visibility": null,
      "width": null
     }
    },
    "6bf2571542714a45b6fde9cb95fc0345": {
     "model_module": "@jupyter-widgets/controls",
     "model_name": "DescriptionStyleModel",
     "state": {
      "_model_module": "@jupyter-widgets/controls",
      "_model_module_version": "1.5.0",
      "_model_name": "DescriptionStyleModel",
      "_view_count": null,
      "_view_module": "@jupyter-widgets/base",
      "_view_module_version": "1.2.0",
      "_view_name": "StyleView",
      "description_width": ""
     }
    },
    "6d61f6b1f3de463586fc4ba07e31de82": {
     "model_module": "@jupyter-widgets/controls",
     "model_name": "IntProgressModel",
     "state": {
      "_dom_classes": [],
      "_model_module": "@jupyter-widgets/controls",
      "_model_module_version": "1.5.0",
      "_model_name": "IntProgressModel",
      "_view_count": null,
      "_view_module": "@jupyter-widgets/controls",
      "_view_module_version": "1.5.0",
      "_view_name": "ProgressView",
      "bar_style": "success",
      "description": "",
      "description_tooltip": null,
      "layout": "IPY_MODEL_abffc8e18a0144558d0c81e70ab24137",
      "max": 1,
      "min": 0,
      "orientation": "horizontal",
      "style": "IPY_MODEL_0c4d28fb1c5b441bae103e32fd52df7f",
      "value": 1
     }
    },
    "735cb255523d444a94934a3f6e630533": {
     "model_module": "@jupyter-widgets/controls",
     "model_name": "DescriptionStyleModel",
     "state": {
      "_model_module": "@jupyter-widgets/controls",
      "_model_module_version": "1.5.0",
      "_model_name": "DescriptionStyleModel",
      "_view_count": null,
      "_view_module": "@jupyter-widgets/base",
      "_view_module_version": "1.2.0",
      "_view_name": "StyleView",
      "description_width": ""
     }
    },
    "7ff78aaeecf14fbf8fd64bdcb80fa22e": {
     "model_module": "@jupyter-widgets/controls",
     "model_name": "HTMLModel",
     "state": {
      "_dom_classes": [],
      "_model_module": "@jupyter-widgets/controls",
      "_model_module_version": "1.5.0",
      "_model_name": "HTMLModel",
      "_view_count": null,
      "_view_module": "@jupyter-widgets/controls",
      "_view_module_version": "1.5.0",
      "_view_name": "HTMLView",
      "description": "",
      "description_tooltip": null,
      "layout": "IPY_MODEL_8e49fe983ee94401b57592e020a643c2",
      "placeholder": "​",
      "style": "IPY_MODEL_6bf2571542714a45b6fde9cb95fc0345",
      "value": " 0/4542 [00:00&lt;?, ?it/s]"
     }
    },
    "8e49fe983ee94401b57592e020a643c2": {
     "model_module": "@jupyter-widgets/base",
     "model_name": "LayoutModel",
     "state": {
      "_model_module": "@jupyter-widgets/base",
      "_model_module_version": "1.2.0",
      "_model_name": "LayoutModel",
      "_view_count": null,
      "_view_module": "@jupyter-widgets/base",
      "_view_module_version": "1.2.0",
      "_view_name": "LayoutView",
      "align_content": null,
      "align_items": null,
      "align_self": null,
      "border": null,
      "bottom": null,
      "display": null,
      "flex": null,
      "flex_flow": null,
      "grid_area": null,
      "grid_auto_columns": null,
      "grid_auto_flow": null,
      "grid_auto_rows": null,
      "grid_column": null,
      "grid_gap": null,
      "grid_row": null,
      "grid_template_areas": null,
      "grid_template_columns": null,
      "grid_template_rows": null,
      "height": null,
      "justify_content": null,
      "justify_items": null,
      "left": null,
      "margin": null,
      "max_height": null,
      "max_width": null,
      "min_height": null,
      "min_width": null,
      "object_fit": null,
      "object_position": null,
      "order": null,
      "overflow": null,
      "overflow_x": null,
      "overflow_y": null,
      "padding": null,
      "right": null,
      "top": null,
      "visibility": null,
      "width": null
     }
    },
    "91e169b0dd73433aabf809c69aa473ae": {
     "model_module": "@jupyter-widgets/base",
     "model_name": "LayoutModel",
     "state": {
      "_model_module": "@jupyter-widgets/base",
      "_model_module_version": "1.2.0",
      "_model_name": "LayoutModel",
      "_view_count": null,
      "_view_module": "@jupyter-widgets/base",
      "_view_module_version": "1.2.0",
      "_view_name": "LayoutView",
      "align_content": null,
      "align_items": null,
      "align_self": null,
      "border": null,
      "bottom": null,
      "display": null,
      "flex": null,
      "flex_flow": null,
      "grid_area": null,
      "grid_auto_columns": null,
      "grid_auto_flow": null,
      "grid_auto_rows": null,
      "grid_column": null,
      "grid_gap": null,
      "grid_row": null,
      "grid_template_areas": null,
      "grid_template_columns": null,
      "grid_template_rows": null,
      "height": null,
      "justify_content": null,
      "justify_items": null,
      "left": null,
      "margin": null,
      "max_height": null,
      "max_width": null,
      "min_height": null,
      "min_width": null,
      "object_fit": null,
      "object_position": null,
      "order": null,
      "overflow": null,
      "overflow_x": null,
      "overflow_y": null,
      "padding": null,
      "right": null,
      "top": null,
      "visibility": null,
      "width": null
     }
    },
    "a432899b5f89471f88ba00a186cacd3d": {
     "model_module": "@jupyter-widgets/controls",
     "model_name": "DescriptionStyleModel",
     "state": {
      "_model_module": "@jupyter-widgets/controls",
      "_model_module_version": "1.5.0",
      "_model_name": "DescriptionStyleModel",
      "_view_count": null,
      "_view_module": "@jupyter-widgets/base",
      "_view_module_version": "1.2.0",
      "_view_name": "StyleView",
      "description_width": ""
     }
    },
    "abffc8e18a0144558d0c81e70ab24137": {
     "model_module": "@jupyter-widgets/base",
     "model_name": "LayoutModel",
     "state": {
      "_model_module": "@jupyter-widgets/base",
      "_model_module_version": "1.2.0",
      "_model_name": "LayoutModel",
      "_view_count": null,
      "_view_module": "@jupyter-widgets/base",
      "_view_module_version": "1.2.0",
      "_view_name": "LayoutView",
      "align_content": null,
      "align_items": null,
      "align_self": null,
      "border": null,
      "bottom": null,
      "display": null,
      "flex": null,
      "flex_flow": null,
      "grid_area": null,
      "grid_auto_columns": null,
      "grid_auto_flow": null,
      "grid_auto_rows": null,
      "grid_column": null,
      "grid_gap": null,
      "grid_row": null,
      "grid_template_areas": null,
      "grid_template_columns": null,
      "grid_template_rows": null,
      "height": null,
      "justify_content": null,
      "justify_items": null,
      "left": null,
      "margin": null,
      "max_height": null,
      "max_width": null,
      "min_height": null,
      "min_width": null,
      "object_fit": null,
      "object_position": null,
      "order": null,
      "overflow": null,
      "overflow_x": null,
      "overflow_y": null,
      "padding": null,
      "right": null,
      "top": null,
      "visibility": null,
      "width": null
     }
    },
    "b437c005b9fe43769a6979e1ffb53130": {
     "model_module": "@jupyter-widgets/controls",
     "model_name": "ProgressStyleModel",
     "state": {
      "_model_module": "@jupyter-widgets/controls",
      "_model_module_version": "1.5.0",
      "_model_name": "ProgressStyleModel",
      "_view_count": null,
      "_view_module": "@jupyter-widgets/base",
      "_view_module_version": "1.2.0",
      "_view_name": "StyleView",
      "bar_color": null,
      "description_width": "initial"
     }
    },
    "bb994934347245e3a61915b00714291f": {
     "model_module": "@jupyter-widgets/base",
     "model_name": "LayoutModel",
     "state": {
      "_model_module": "@jupyter-widgets/base",
      "_model_module_version": "1.2.0",
      "_model_name": "LayoutModel",
      "_view_count": null,
      "_view_module": "@jupyter-widgets/base",
      "_view_module_version": "1.2.0",
      "_view_name": "LayoutView",
      "align_content": null,
      "align_items": null,
      "align_self": null,
      "border": null,
      "bottom": null,
      "display": null,
      "flex": null,
      "flex_flow": null,
      "grid_area": null,
      "grid_auto_columns": null,
      "grid_auto_flow": null,
      "grid_auto_rows": null,
      "grid_column": null,
      "grid_gap": null,
      "grid_row": null,
      "grid_template_areas": null,
      "grid_template_columns": null,
      "grid_template_rows": null,
      "height": null,
      "justify_content": null,
      "justify_items": null,
      "left": null,
      "margin": null,
      "max_height": null,
      "max_width": null,
      "min_height": null,
      "min_width": null,
      "object_fit": null,
      "object_position": null,
      "order": null,
      "overflow": null,
      "overflow_x": null,
      "overflow_y": null,
      "padding": null,
      "right": null,
      "top": null,
      "visibility": null,
      "width": null
     }
    },
    "be32febeeb0448d1b0de1448bd710744": {
     "model_module": "@jupyter-widgets/controls",
     "model_name": "HBoxModel",
     "state": {
      "_dom_classes": [],
      "_model_module": "@jupyter-widgets/controls",
      "_model_module_version": "1.5.0",
      "_model_name": "HBoxModel",
      "_view_count": null,
      "_view_module": "@jupyter-widgets/controls",
      "_view_module_version": "1.5.0",
      "_view_name": "HBoxView",
      "box_style": "",
      "children": [
       "IPY_MODEL_5a3ff12966e34d0e8709db597e4acf6c",
       "IPY_MODEL_63d037666a2e46b79c4340f1e4fd3c2d"
      ],
      "layout": "IPY_MODEL_0c036ae4617d4261aca261a7afafe298"
     }
    },
    "d204581000034449b3ab8d409a8db5c8": {
     "model_module": "@jupyter-widgets/base",
     "model_name": "LayoutModel",
     "state": {
      "_model_module": "@jupyter-widgets/base",
      "_model_module_version": "1.2.0",
      "_model_name": "LayoutModel",
      "_view_count": null,
      "_view_module": "@jupyter-widgets/base",
      "_view_module_version": "1.2.0",
      "_view_name": "LayoutView",
      "align_content": null,
      "align_items": null,
      "align_self": null,
      "border": null,
      "bottom": null,
      "display": null,
      "flex": null,
      "flex_flow": null,
      "grid_area": null,
      "grid_auto_columns": null,
      "grid_auto_flow": null,
      "grid_auto_rows": null,
      "grid_column": null,
      "grid_gap": null,
      "grid_row": null,
      "grid_template_areas": null,
      "grid_template_columns": null,
      "grid_template_rows": null,
      "height": null,
      "justify_content": null,
      "justify_items": null,
      "left": null,
      "margin": null,
      "max_height": null,
      "max_width": null,
      "min_height": null,
      "min_width": null,
      "object_fit": null,
      "object_position": null,
      "order": null,
      "overflow": null,
      "overflow_x": null,
      "overflow_y": null,
      "padding": null,
      "right": null,
      "top": null,
      "visibility": null,
      "width": null
     }
    },
    "e3489a4664a54b12a5c36702e713a4a1": {
     "model_module": "@jupyter-widgets/base",
     "model_name": "LayoutModel",
     "state": {
      "_model_module": "@jupyter-widgets/base",
      "_model_module_version": "1.2.0",
      "_model_name": "LayoutModel",
      "_view_count": null,
      "_view_module": "@jupyter-widgets/base",
      "_view_module_version": "1.2.0",
      "_view_name": "LayoutView",
      "align_content": null,
      "align_items": null,
      "align_self": null,
      "border": null,
      "bottom": null,
      "display": null,
      "flex": null,
      "flex_flow": null,
      "grid_area": null,
      "grid_auto_columns": null,
      "grid_auto_flow": null,
      "grid_auto_rows": null,
      "grid_column": null,
      "grid_gap": null,
      "grid_row": null,
      "grid_template_areas": null,
      "grid_template_columns": null,
      "grid_template_rows": null,
      "height": null,
      "justify_content": null,
      "justify_items": null,
      "left": null,
      "margin": null,
      "max_height": null,
      "max_width": null,
      "min_height": null,
      "min_width": null,
      "object_fit": null,
      "object_position": null,
      "order": null,
      "overflow": null,
      "overflow_x": null,
      "overflow_y": null,
      "padding": null,
      "right": null,
      "top": null,
      "visibility": null,
      "width": null
     }
    },
    "f7d9fadcc43d40ba9502fc75949958ca": {
     "model_module": "@jupyter-widgets/controls",
     "model_name": "ProgressStyleModel",
     "state": {
      "_model_module": "@jupyter-widgets/controls",
      "_model_module_version": "1.5.0",
      "_model_name": "ProgressStyleModel",
      "_view_count": null,
      "_view_module": "@jupyter-widgets/base",
      "_view_module_version": "1.2.0",
      "_view_name": "StyleView",
      "bar_color": null,
      "description_width": "initial"
     }
    },
    "fa679d760c694aa4b561e2be545e2721": {
     "model_module": "@jupyter-widgets/controls",
     "model_name": "HTMLModel",
     "state": {
      "_dom_classes": [],
      "_model_module": "@jupyter-widgets/controls",
      "_model_module_version": "1.5.0",
      "_model_name": "HTMLModel",
      "_view_count": null,
      "_view_module": "@jupyter-widgets/controls",
      "_view_module_version": "1.5.0",
      "_view_name": "HTMLView",
      "description": "",
      "description_tooltip": null,
      "layout": "IPY_MODEL_0d69a588803c457bac9096ccefd7754f",
      "placeholder": "​",
      "style": "IPY_MODEL_a432899b5f89471f88ba00a186cacd3d",
      "value": " 1654784/? [00:01&lt;00:00, 862644.86it/s]"
     }
    },
    "fcb3a94e0fca47a8a40f4be02b3fc861": {
     "model_module": "@jupyter-widgets/controls",
     "model_name": "IntProgressModel",
     "state": {
      "_dom_classes": [],
      "_model_module": "@jupyter-widgets/controls",
      "_model_module_version": "1.5.0",
      "_model_name": "IntProgressModel",
      "_view_count": null,
      "_view_module": "@jupyter-widgets/controls",
      "_view_module_version": "1.5.0",
      "_view_name": "ProgressView",
      "bar_style": "success",
      "description": "",
      "description_tooltip": null,
      "layout": "IPY_MODEL_0b650f4a01774daa96060eec3e6626a4",
      "max": 1,
      "min": 0,
      "orientation": "horizontal",
      "style": "IPY_MODEL_f7d9fadcc43d40ba9502fc75949958ca",
      "value": 1
     }
    }
   }
  }
 },
 "nbformat": 4,
 "nbformat_minor": 1
}
