{
 "cells": [
  {
   "cell_type": "markdown",
   "metadata": {},
   "source": [
    "# Resnet33 for Real Time Automatic Modulation Classification"
   ]
  },
  {
   "cell_type": "markdown",
   "metadata": {},
   "source": [
    "### Import Statements"
   ]
  },
  {
   "cell_type": "code",
   "execution_count": 1,
   "metadata": {
    "scrolled": true
   },
   "outputs": [],
   "source": [
    "import os\n",
    "import torch\n",
    "import h5py\n",
    "import torch.nn as nn\n",
    "import torch.optim as optim\n",
    "import torch.nn.functional as F\n",
    "from tqdm import tqdm\n",
    "import os\n",
    "import numpy as np\n",
    "import torch.utils.data as data\n",
    "from torch.utils.data.sampler import SubsetRandomSampler\n",
    "import torchvision.transforms as transforms\n",
    "from pathlib import Path\n",
    "from torchsummary import summary\n",
    "import brevitas.nn as qnn\n",
    "from brevitas.core.quant import QuantType"
   ]
  },
  {
   "cell_type": "markdown",
   "metadata": {},
   "source": [
    "### Define Module"
   ]
  },
  {
   "cell_type": "code",
   "execution_count": 2,
   "metadata": {},
   "outputs": [],
   "source": [
    "# Quantized ResNet\n",
    "\n",
    "quant_type = QuantType.INT\n",
    "prec = 8\n",
    "\n",
    "class resnet33_quant(torch.nn.Module):\n",
    "    def __init__(self, channels):\n",
    "        super(resnet33_quant, self).__init__() #Consider only 1 residual stack layer\n",
    "        self.conv1 = torch.nn.Sequential(qnn.QuantConv1d(in_channels=channels, out_channels=channels*32, kernel_size=3, padding=1, weight_quant_type=quant_type, weight_bit_width=prec),torch.nn.BatchNorm1d(channels*32))\n",
    "        self.maxpool = torch.nn.MaxPool1d(kernel_size=2, stride=2)\n",
    "        \n",
    "        self.conv2 = torch.nn.Sequential(qnn.QuantConv1d(in_channels=channels*32, out_channels=channels*32, kernel_size=3, padding=1, weight_quant_type=quant_type, weight_bit_width=prec),torch.nn.BatchNorm1d(channels*32))\n",
    "        self.conv3 = torch.nn.Sequential(qnn.QuantConv1d(in_channels=channels*32, out_channels=channels*32, kernel_size=3, padding=1, weight_quant_type=quant_type, weight_bit_width=prec),torch.nn.BatchNorm1d(channels*32))\n",
    "        self.conv4 = torch.nn.Sequential(qnn.QuantConv1d(in_channels=channels*32, out_channels=channels*32, kernel_size=3, padding=1, weight_quant_type=quant_type, weight_bit_width=prec),torch.nn.BatchNorm1d(channels*32))\n",
    "        self.conv5 = torch.nn.Sequential(qnn.QuantConv1d(in_channels=channels*32, out_channels=channels*32, kernel_size=3, padding=1, weight_quant_type=quant_type, weight_bit_width=prec),torch.nn.BatchNorm1d(channels*32))\n",
    "        \n",
    "        self.conv6 = torch.nn.Sequential(qnn.QuantConv1d(in_channels=channels*32, out_channels=channels*32, kernel_size=3, padding=1, weight_quant_type=quant_type, weight_bit_width=prec),torch.nn.BatchNorm1d(channels*32))\n",
    "        self.conv7 = torch.nn.Sequential(qnn.QuantConv1d(in_channels=channels*32, out_channels=channels*32, kernel_size=3, padding=1, weight_quant_type=quant_type, weight_bit_width=prec),torch.nn.BatchNorm1d(channels*32))\n",
    "        self.conv8 = torch.nn.Sequential(qnn.QuantConv1d(in_channels=channels*32, out_channels=channels*32, kernel_size=3, padding=1, weight_quant_type=quant_type, weight_bit_width=prec),torch.nn.BatchNorm1d(channels*32))\n",
    "        self.conv9 = torch.nn.Sequential(qnn.QuantConv1d(in_channels=channels*32, out_channels=channels*32, kernel_size=3, padding=1, weight_quant_type=quant_type, weight_bit_width=prec),torch.nn.BatchNorm1d(channels*32))\n",
    "        \n",
    "        self.conv10 = torch.nn.Sequential(qnn.QuantConv1d(in_channels=channels*32, out_channels=channels*32, kernel_size=3, padding=1, weight_quant_type=quant_type, weight_bit_width=prec),torch.nn.BatchNorm1d(channels*32))\n",
    "        self.conv11 = torch.nn.Sequential(qnn.QuantConv1d(in_channels=channels*32, out_channels=channels*32, kernel_size=3, padding=1, weight_quant_type=quant_type, weight_bit_width=prec),torch.nn.BatchNorm1d(channels*32))\n",
    "        self.conv12 = torch.nn.Sequential(qnn.QuantConv1d(in_channels=channels*32, out_channels=channels*32, kernel_size=3, padding=1, weight_quant_type=quant_type, weight_bit_width=prec),torch.nn.BatchNorm1d(channels*32))\n",
    "        self.conv13 = torch.nn.Sequential(qnn.QuantConv1d(in_channels=channels*32, out_channels=channels*32, kernel_size=3, padding=1, weight_quant_type=quant_type, weight_bit_width=prec),torch.nn.BatchNorm1d(channels*32))\n",
    "        \n",
    "        self.conv14 = torch.nn.Sequential(qnn.QuantConv1d(in_channels=channels*32, out_channels=channels*32, kernel_size=3, padding=1, weight_quant_type=quant_type, weight_bit_width=prec),torch.nn.BatchNorm1d(channels*32))\n",
    "        self.conv15 = torch.nn.Sequential(qnn.QuantConv1d(in_channels=channels*32, out_channels=channels*32, kernel_size=3, padding=1, weight_quant_type=quant_type, weight_bit_width=prec),torch.nn.BatchNorm1d(channels*32))\n",
    "        self.conv16 = torch.nn.Sequential(qnn.QuantConv1d(in_channels=channels*32, out_channels=channels*32, kernel_size=3, padding=1, weight_quant_type=quant_type, weight_bit_width=prec),torch.nn.BatchNorm1d(channels*32))\n",
    "        self.conv17 = torch.nn.Sequential(qnn.QuantConv1d(in_channels=channels*32, out_channels=channels*32, kernel_size=3, padding=1, weight_quant_type=quant_type, weight_bit_width=prec),torch.nn.BatchNorm1d(channels*32))\n",
    "        \n",
    "        self.conv18 = torch.nn.Sequential(qnn.QuantConv1d(in_channels=channels*32, out_channels=channels*32, kernel_size=3, padding=1, weight_quant_type=quant_type, weight_bit_width=prec),torch.nn.BatchNorm1d(channels*32))\n",
    "        \n",
    "        self.classifier = torch.nn.Sequential(qnn.QuantLinear(channels*512, 128, bias=True, weight_quant_type=quant_type, weight_bit_width=prec),\n",
    "                                        #torch.nn.SELU(True),\n",
    "                                        qnn.QuantReLU(quant_type=QuantType.INT, bit_width=prec, max_val=6),\n",
    "                                        #torch.nn.Dropout(),\n",
    "                                        qnn.QuantLinear(128, 128, bias=True, weight_quant_type=quant_type, weight_bit_width=prec),\n",
    "                                        #torch.nn.SELU(True),\n",
    "                                        qnn.QuantReLU(quant_type=QuantType.INT, bit_width=prec, max_val=6),\n",
    "                                        #torch.nn.Dropout(), \n",
    "                                        qnn.QuantLinear(128, 24, bias=True, weight_quant_type=quant_type, weight_bit_width=prec))\n",
    "                                        #torch.nn.Softmax(dim=1)) \n",
    "            \n",
    "    def forward(self,x):\n",
    "        #Residual Stack 1\n",
    "        y1 = F.relu(self.conv1(x)) #1'st layer con\n",
    "        y2 = F.relu(self.conv2(y1))\n",
    "        y3 = self.maxpool(F.relu(self.conv3(y2) + y1))\n",
    "        \n",
    "        #Residual Stack 2\n",
    "        y4 = self.conv4(y3)\n",
    "        y5 = F.relu(self.conv5(y4))\n",
    "        y6 = self.maxpool(F.relu(self.conv6(y5) + y4))\n",
    "        \n",
    "        #Residual Stack 3\n",
    "        y4 = self.conv7(y6)\n",
    "        y5 = F.relu(self.conv8(y4))\n",
    "        y6 = self.maxpool(F.relu(self.conv9(y5) + y4))\n",
    "        \n",
    "        #Residual Stack 4\n",
    "        y4 = self.conv10(y6)\n",
    "        y5 = F.relu(self.conv11(y4))\n",
    "        y6 = self.maxpool(F.relu(self.conv12(y5) + y4))\n",
    "        \n",
    "        #Residual Stack 5\n",
    "        y4 = self.conv13(y6)\n",
    "        y5 = F.relu(self.conv14(y4))\n",
    "        y6 = self.maxpool(F.relu(self.conv15(y5) + y4))\n",
    "        \n",
    "        #Residual Stack 6\n",
    "        y4 = self.conv16(y6)\n",
    "        y5 = F.relu(self.conv17(y4))\n",
    "        y6 = self.maxpool(F.relu(self.conv18(y5) + y4))\n",
    "        \n",
    "        y7 = torch.flatten(y6,1)\n",
    "        y8 = self.classifier(y7)\n",
    "        \n",
    "        return y8"
   ]
  },
  {
   "cell_type": "code",
   "execution_count": 3,
   "metadata": {},
   "outputs": [],
   "source": [
    "class H5Dataset(data.Dataset):\n",
    "\n",
    "    def __init__(self, file_path):\n",
    "        super(H5Dataset, self).__init__()\n",
    "        h5_file = h5py.File(file_path,'r')\n",
    "        self.X = h5_file['X']\n",
    "        self.Y = h5_file['Y']\n",
    "        self.Z = h5_file['Z']\n",
    "\n",
    "    def __getitem__(self, index):\n",
    "        #device = torch.device(\"cuda\" if torch.cuda.is_available() else \"cpu\")\n",
    "        #print(index)\n",
    "        Y = torch.from_numpy(self.Y[index])\n",
    "        return torch.from_numpy(self.X[index]).float(),torch.argmax(Y),torch.from_numpy(self.Z[index]).float()\n",
    "        #return self.data\n",
    "\n",
    "    def __len__(self):\n",
    "        return self.X.shape[0]"
   ]
  },
  {
   "cell_type": "markdown",
   "metadata": {},
   "source": [
    "### Train Network"
   ]
  },
  {
   "cell_type": "code",
   "execution_count": 4,
   "metadata": {},
   "outputs": [],
   "source": [
    "import matplotlib.pyplot as plt\n",
    "import time\n",
    "\n",
    "def lr_schedule(epoch):\n",
    "    lr = 1e-3\n",
    "    if epoch > 9:\n",
    "        lr = 1e-4\n",
    "    elif epoch > 2:\n",
    "        lr = 1e-3\n",
    "    else:\n",
    "        lr = 1e-2\n",
    "    print('Learning rate: ', lr)\n",
    "    return lr\n",
    "\n",
    "train_losses = []\n",
    "accuracies = []\n",
    "times = []\n",
    "\n",
    "def train_model(net, train_loader, epochs, criterion, device):\n",
    "    net.train()\n",
    "    running_loss = 0.0\n",
    "    steps = 0\n",
    "    epoch_start = 0\n",
    "    correct = 0\n",
    "\n",
    "    time_start = time.time()\n",
    "    for epoch in range(epoch_start,epoch_start+epochs):\n",
    "        optimizer = optim.SGD(net.parameters(), lr=lr_schedule(epoch), momentum=0.9, weight_decay=1e-4)\n",
    "        for i, data in tqdm(enumerate(train_loader)):\n",
    "            steps += 1\n",
    "            signals, labels, snr = data\n",
    "            signals, labels = signals.to(device), labels.to(device)\n",
    "            #print(labels)\n",
    "            signals_mean = torch.mean(signals, 1, keepdims=True)\n",
    "            #print(signals.size())\n",
    "            #print(signals_mean.size())\n",
    "            signals = signals - signals_mean\n",
    "            signals = torch.transpose(signals, 1, 2)\n",
    "            \n",
    "            optimizer.zero_grad()\n",
    "            outputs = net.forward(signals)\n",
    "            correct += torch.sum((torch.argmax(outputs,dim=1) == labels)).item()\n",
    "            #print(torch.argmax(outputs,dim=1)==labels, correct)\n",
    "            loss = criterion(outputs,labels)\n",
    "            loss.backward()\n",
    "            optimizer.step()\n",
    "            \n",
    "            running_loss += loss.item()\n",
    "\n",
    "        train_loss = running_loss/len(train_loader)\n",
    "        accuracy = correct/(48*len(train_loader))\n",
    "        \n",
    "        train_losses.append(train_loss)\n",
    "        accuracies.append(accuracy)\n",
    "        times.append(time.time() - time_start)\n",
    "        \n",
    "        print(f\"Epoch {epoch+1}/{epoch_start+epochs}.. \"\n",
    "                          f\"Train loss: {train_loss:.3f}.. \")\n",
    "        print('Accuracy {:f}'.format(accuracy))\n",
    "        running_loss = 0\n",
    "        correct = 0\n",
    "        print(\"Steps completed: \",steps)\n",
    "                \n",
    "        PATH = './resnet33_radioml_brevitas_epoch_{:d}.pth'.format(epoch)\n",
    "        torch.save(net.state_dict(), PATH)"
   ]
  },
  {
   "cell_type": "code",
   "execution_count": 5,
   "metadata": {
    "scrolled": true
   },
   "outputs": [
    {
     "name": "stdout",
     "output_type": "stream",
     "text": [
      "2555904\n",
      "1277952\n",
      "cuda:0\n"
     ]
    },
    {
     "name": "stderr",
     "output_type": "stream",
     "text": [
      "/opt/conda/lib/python3.7/site-packages/torch/jit/_recursive.py:145: UserWarning: 'stats_reduce_dim' was found in ScriptModule constants, but was not actually set in __init__. Consider removing it.\n",
      "  \"Consider removing it.\".format(name))\n",
      "/opt/conda/lib/python3.7/site-packages/torch/jit/_recursive.py:145: UserWarning: 'const_affine_weight' was found in ScriptModule constants, but was not actually set in __init__. Consider removing it.\n",
      "  \"Consider removing it.\".format(name))\n",
      "/opt/conda/lib/python3.7/site-packages/torch/jit/_recursive.py:145: UserWarning: 'const_affine_bias' was found in ScriptModule constants, but was not actually set in __init__. Consider removing it.\n",
      "  \"Consider removing it.\".format(name))\n"
     ]
    },
    {
     "name": "stdout",
     "output_type": "stream",
     "text": [
      "363546\n",
      "Learning rate:  0.01\n"
     ]
    },
    {
     "name": "stderr",
     "output_type": "stream",
     "text": [
      "21300it [40:02,  8.87it/s]"
     ]
    },
    {
     "name": "stdout",
     "output_type": "stream",
     "text": [
      "Epoch 1/10.. Train loss: 0.672.. \n",
      "Accuracy 0.688777\n",
      "Steps completed:  21300\n",
      "Learning rate:  0.01\n"
     ]
    },
    {
     "name": "stderr",
     "output_type": "stream",
     "text": [
      "\n",
      "21300it [37:42,  9.41it/s]\n"
     ]
    },
    {
     "name": "stdout",
     "output_type": "stream",
     "text": [
      "Epoch 2/10.. Train loss: 0.458.. \n",
      "Accuracy 0.786805\n",
      "Steps completed:  42600\n",
      "Learning rate:  0.01\n"
     ]
    },
    {
     "name": "stderr",
     "output_type": "stream",
     "text": [
      "21300it [43:57,  8.08it/s]"
     ]
    },
    {
     "name": "stdout",
     "output_type": "stream",
     "text": [
      "Epoch 3/10.. Train loss: 0.374.. \n",
      "Accuracy 0.830384\n",
      "Steps completed:  63900\n",
      "Learning rate:  0.001\n"
     ]
    },
    {
     "name": "stderr",
     "output_type": "stream",
     "text": [
      "\n",
      "21300it [38:56,  9.12it/s]\n"
     ]
    },
    {
     "name": "stdout",
     "output_type": "stream",
     "text": [
      "Epoch 4/10.. Train loss: 0.278.. \n",
      "Accuracy 0.879898\n",
      "Steps completed:  85200\n",
      "Learning rate:  0.001\n"
     ]
    },
    {
     "name": "stderr",
     "output_type": "stream",
     "text": [
      "21300it [37:41,  9.42it/s]\n"
     ]
    },
    {
     "name": "stdout",
     "output_type": "stream",
     "text": [
      "Epoch 5/10.. Train loss: 0.256.. \n",
      "Accuracy 0.890997\n",
      "Steps completed:  106500\n",
      "Learning rate:  0.001\n"
     ]
    },
    {
     "name": "stderr",
     "output_type": "stream",
     "text": [
      "21300it [37:31,  9.46it/s]"
     ]
    },
    {
     "name": "stdout",
     "output_type": "stream",
     "text": [
      "Epoch 6/10.. Train loss: 0.245.. \n",
      "Accuracy 0.896367\n",
      "Steps completed:  127800\n",
      "Learning rate:  0.001\n"
     ]
    },
    {
     "name": "stderr",
     "output_type": "stream",
     "text": [
      "\n",
      "21300it [37:23,  9.49it/s]"
     ]
    },
    {
     "name": "stdout",
     "output_type": "stream",
     "text": [
      "Epoch 7/10.. Train loss: 0.238.. \n",
      "Accuracy 0.899460\n",
      "Steps completed:  149100\n",
      "Learning rate:  0.001\n"
     ]
    },
    {
     "name": "stderr",
     "output_type": "stream",
     "text": [
      "\n",
      "21300it [37:14,  9.53it/s]"
     ]
    },
    {
     "name": "stdout",
     "output_type": "stream",
     "text": [
      "Epoch 8/10.. Train loss: 0.233.. \n",
      "Accuracy 0.902035\n",
      "Steps completed:  170400\n",
      "Learning rate:  0.001\n"
     ]
    },
    {
     "name": "stderr",
     "output_type": "stream",
     "text": [
      "\n",
      "21300it [38:49,  9.14it/s]\n"
     ]
    },
    {
     "name": "stdout",
     "output_type": "stream",
     "text": [
      "Epoch 9/10.. Train loss: 0.228.. \n",
      "Accuracy 0.903950\n",
      "Steps completed:  191700\n",
      "Learning rate:  0.001\n"
     ]
    },
    {
     "name": "stderr",
     "output_type": "stream",
     "text": [
      "21300it [36:52,  9.63it/s]"
     ]
    },
    {
     "name": "stdout",
     "output_type": "stream",
     "text": [
      "Epoch 10/10.. Train loss: 0.224.. \n",
      "Accuracy 0.905604\n",
      "Steps completed:  213000\n"
     ]
    },
    {
     "name": "stderr",
     "output_type": "stream",
     "text": [
      "\n"
     ]
    }
   ],
   "source": [
    "input_data = H5Dataset(\"/dataset/201801/GOLD_XYZ_OSC.0001_1024.hdf5\")\n",
    "dataset_size = len(input_data)\n",
    "print(dataset_size)\n",
    "\n",
    "indices = []\n",
    "for i in range (0, 24):\n",
    "    temp = list(range(106496*i +4096*13, 106496*i + 4096*26)) #Get only SNR > 6dB\n",
    "    indices.extend(temp)\n",
    "print(len(indices))\n",
    "\n",
    "split = int(np.floor(0.2*len(indices)))\n",
    "np.random.shuffle(indices)\n",
    "\n",
    "train_indices, val_indices = indices[split:], indices[:split]\n",
    "\n",
    "#print(train_indices.shape)\n",
    "#print(val_indices.shape)\n",
    "\n",
    "train_sampler = torch.utils.data.SubsetRandomSampler(train_indices)\n",
    "validation_sampler = torch.utils.data.SubsetRandomSampler(val_indices)\n",
    "\n",
    "train_loader = torch.utils.data.DataLoader(input_data, batch_size=48, shuffle=False, sampler=train_sampler, num_workers=48, pin_memory=True)\n",
    "validation_loader = torch.utils.data.DataLoader(input_data, batch_size=48, shuffle=False, sampler=validation_sampler, num_workers=48, pin_memory=True)\n",
    "\n",
    "os.environ['CUDA_LAUNCH_BLOCKING'] = '1'\n",
    "\n",
    "# setting up for training\n",
    "device = torch.device(\"cuda:0\" if torch.cuda.is_available() else \"cpu\")\n",
    "print(device)\n",
    "\n",
    "# if starting\n",
    "net = resnet33_quant(2)\n",
    "net = net.to(device)\n",
    "# else\n",
    "#PATH = './resnet33_radioml_brevitas_epoch_9.pth'\n",
    "#net = resnet33_quant(2)\n",
    "#net.to(device)\n",
    "#net.load_state_dict(torch.load(PATH))\n",
    "\n",
    "#summary(net, input_size=(2, 1024))\n",
    "print(sum([param.nelement() for param in net.parameters()]))\n",
    "\n",
    "criterion = nn.CrossEntropyLoss()\n",
    "epochs = 10\n",
    "\n",
    "train_model(net, train_loader, epochs, criterion, device)"
   ]
  },
  {
   "cell_type": "code",
   "execution_count": 6,
   "metadata": {},
   "outputs": [
    {
     "name": "stdout",
     "output_type": "stream",
     "text": [
      "[0.6720583028132927, 0.457717810417285, 0.3741599338868974, 0.2782124114519274, 0.2562588346093683, 0.24548964548576185, 0.23824586099197329, 0.23262562086735744, 0.22825819569897834, 0.22426826842444045]\n",
      "[0.688777386541471, 0.7868045774647887, 0.8303843896713615, 0.8798982785602504, 0.8909966744913927, 0.8963673708920188, 0.8994600938967137, 0.902035406885759, 0.9039495305164319, 0.9056044600938967]\n"
     ]
    },
    {
     "data": {
      "text/plain": [
       "<matplotlib.legend.Legend at 0x7fdaa13c5ef0>"
      ]
     },
     "execution_count": 6,
     "metadata": {},
     "output_type": "execute_result"
    },
    {
     "data": {
      "image/png": "[encoded data removed]",
      "text/plain": [
       "<Figure size 432x288 with 2 Axes>"
      ]
     },
     "metadata": {
      "needs_background": "light"
     },
     "output_type": "display_data"
    }
   ],
   "source": [
    "print(train_losses)\n",
    "print(accuracies)\n",
    "\n",
    "plt.subplot(1, 2, 1)\n",
    "plt.plot(range(epochs), train_losses, 'g', label='Training')\n",
    "plt.title('Loss vs Epochs')\n",
    "plt.xlabel('Epochs')\n",
    "plt.ylabel('Loss')\n",
    "plt.legend()\n",
    "\n",
    "plt.subplot(1, 2, 2)\n",
    "plt.plot(range(epochs), accuracies, 'g', label='Training')\n",
    "plt.title('Accuracy vs Epochs')\n",
    "plt.xlabel('Epochs')\n",
    "plt.ylabel('Accuracy')\n",
    "plt.legend()\n",
    "\n",
    "#plt.subplot(1, 3, 3)\n",
    "#plt.plot(times, range(epochs), 'g', label='Training')\n",
    "#plt.title('Epochs vs Time')\n",
    "#plt.xlabel('Time (s)')\n",
    "#plt.ylabel('Epochs')\n",
    "#plt.legend()\n",
    "\n",
    "#plt.show()"
   ]
  },
  {
   "cell_type": "markdown",
   "metadata": {},
   "source": [
    "### Test Network"
   ]
  },
  {
   "cell_type": "code",
   "execution_count": 7,
   "metadata": {
    "scrolled": true
   },
   "outputs": [
    {
     "name": "stdout",
     "output_type": "stream",
     "text": [
      "5325\n"
     ]
    },
    {
     "name": "stderr",
     "output_type": "stream",
     "text": [
      "255590it [2:34:03, 27.65it/s]"
     ]
    },
    {
     "name": "stdout",
     "output_type": "stream",
     "text": [
      "Accuracy of the network on the test images: 90.642044 %\n"
     ]
    },
    {
     "name": "stderr",
     "output_type": "stream",
     "text": [
      "\n"
     ]
    }
   ],
   "source": [
    "PATH = './resnet33_radioml_brevitas_epoch_9.pth'\n",
    "model1 = resnet33_quant(2)\n",
    "model1.to(device)\n",
    "model1.load_state_dict(torch.load(PATH))\n",
    "\n",
    "correct = 0\n",
    "total = 0\n",
    "\n",
    "snr_accuracy = dict()\n",
    "for i in range(6,32,2):\n",
    "    k = str(i)\n",
    "    snr_accuracy[k] = [0,0]\n",
    "    \n",
    "#new_validations_sampler = torch.utils.data.SubsetRandomSampler(new_val_indices)\n",
    "    \n",
    "new_validation_loader = torch.utils.data.DataLoader(input_data, batch_size=1,shuffle=False, sampler=validation_sampler, num_workers=48, pin_memory=True)\n",
    "\n",
    "print(len(validation_loader))\n",
    "\n",
    "model1.eval()\n",
    "for i,data in tqdm(enumerate(new_validation_loader)):\n",
    "    signals, labels, snr = data\n",
    "    signals, labels = signals.to(device), labels.to(device)\n",
    "    #print(labels)\n",
    "    signals_mean = torch.mean(signals, 1, keepdims=True)\n",
    "    #print(signals.size())\n",
    "    #print(signals_mean.size())\n",
    "    signals = signals - signals_mean\n",
    "    signals = torch.transpose(signals, 1, 2)\n",
    "\n",
    "    #optimizer.zero_grad()\n",
    "    outputs = model1.forward(signals)\n",
    "    correct += torch.sum((torch.argmax(outputs,dim=1) == labels)).item()\n",
    "    snr_value = snr.item()\n",
    "    #print(snr_value)\n",
    "    snr_accuracy[str(int(snr_value))][0] += torch.sum((torch.argmax(outputs,dim=1) == labels)).item()\n",
    "    snr_accuracy[str(int(snr_value))][1] += 1\n",
    "    \n",
    "    #print(snr_accuracy)\n",
    "    #print(torch.argmax(outputs,dim=1)==labels, correct)\n",
    "    #loss = criterion(outputs,labels)\n",
    "    #loss.backward()\n",
    "    #optimizer.step()\n",
    "    #predicted = torch.argmax(outputs, 1)#Calculate predicted value\n",
    "    #print(predicted, labels)\n",
    "    total += 1 #Increase by 1 batch\n",
    "    #print(correct, total)\n",
    "    #print(predicted == labels)\n",
    "    #correct += torch.sum((predicted == labels)) #Increase if correct\n",
    "\n",
    "print('Accuracy of the network on the test images: %f %%' % (\n",
    "    100 * correct / total))\n",
    "    "
   ]
  },
  {
   "cell_type": "code",
   "execution_count": 8,
   "metadata": {
    "scrolled": true
   },
   "outputs": [
    {
     "name": "stdout",
     "output_type": "stream",
     "text": [
      "6 dB SNR: accuracy: 0.779142\n",
      "8 dB SNR: accuracy: 0.841124\n",
      "10 dB SNR: accuracy: 0.879905\n",
      "12 dB SNR: accuracy: 0.898467\n",
      "14 dB SNR: accuracy: 0.915759\n",
      "16 dB SNR: accuracy: 0.925357\n",
      "18 dB SNR: accuracy: 0.930473\n",
      "20 dB SNR: accuracy: 0.935542\n",
      "22 dB SNR: accuracy: 0.933611\n",
      "24 dB SNR: accuracy: 0.934662\n",
      "26 dB SNR: accuracy: 0.937058\n",
      "28 dB SNR: accuracy: 0.934119\n",
      "30 dB SNR: accuracy: 0.938361\n"
     ]
    }
   ],
   "source": [
    "for key,value in snr_accuracy.items():\n",
    "    print('{:s} dB SNR: accuracy: {:f}'.format(key, value[0]/value[1]))"
   ]
  },
  {
   "cell_type": "code",
   "execution_count": 7,
   "metadata": {},
   "outputs": [
    {
     "data": {
      "image/png": "[encoded data removed]",
      "text/plain": [
       "<Figure size 432x288 with 1 Axes>"
      ]
     },
     "metadata": {
      "needs_background": "light"
     },
     "output_type": "display_data"
    }
   ],
   "source": [
    "import matplotlib.pyplot as plt\n",
    "\n",
    "db = range(6,31,2)\n",
    "perf = [0.784016,0.848516,0.891056,0.912698,0.922737,0.930349,0.933558,0.938976,0.937712,0.933947,0.939463,0.937780,0.938579]\n",
    "perf_2 = [0.779142,0.841124,0.879905,0.898467,0.915759,0.925357,0.930473,0.935542,0.933611,0.934662,0.937058,0.934119,0.938361]\n",
    "\n",
    "plt.plot(db, perf, marker='o', color='b', label='Original')\n",
    "plt.plot(db, perf_2, marker='o', color='g', label='Brevitas')\n",
    "#plt.bar(pos, perf, align='center', alpha=1)\n",
    "#plt.xticks(pos, obj)\n",
    "plt.title('Accuracy vs SNR')\n",
    "plt.xlabel('SNR in dB')\n",
    "plt.ylabel('Classification Accuracy')\n",
    "\n",
    "plt.legend()\n",
    "plt.show()"
   ]
  },
  {
   "cell_type": "code",
   "execution_count": null,
   "metadata": {},
   "outputs": [],
   "source": []
  }
 ],
 "metadata": {
  "kernelspec": {
   "display_name": "Python 3",
   "language": "python",
   "name": "python3"
  },
  "language_info": {
   "codemirror_mode": {
    "name": "ipython",
    "version": 3
   },
   "file_extension": ".py",
   "mimetype": "text/x-python",
   "name": "python",
   "nbconvert_exporter": "python",
   "pygments_lexer": "ipython3",
   "version": "3.7.4"
  }
 },
 "nbformat": 4,
 "nbformat_minor": 2
}
